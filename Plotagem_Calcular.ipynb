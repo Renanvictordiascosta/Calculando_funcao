{
  "nbformat": 4,
  "nbformat_minor": 0,
  "metadata": {
    "colab": {
      "name": "Untitled2.ipynb",
      "provenance": [],
      "authorship_tag": "ABX9TyOIMnU6Z1wB3CrZdYEBaANM",
      "include_colab_link": true
    },
    "kernelspec": {
      "name": "python3",
      "display_name": "Python 3"
    },
    "language_info": {
      "name": "python"
    }
  },
  "cells": [
    {
      "cell_type": "markdown",
      "metadata": {
        "id": "view-in-github",
        "colab_type": "text"
      },
      "source": [
        "<a href=\"https://colab.research.google.com/github/Renanvictordiascosta/Calculando_funcao/blob/main/Plotagem_Calcular.ipynb\" target=\"_parent\"><img src=\"https://colab.research.google.com/assets/colab-badge.svg\" alt=\"Open In Colab\"/></a>"
      ]
    },
    {
      "cell_type": "code",
      "metadata": {
        "colab": {
          "base_uri": "https://localhost:8080/",
          "height": 577
        },
        "id": "dyzMv91i2xMe",
        "outputId": "1b6736d3-da2a-47e2-ce06-83f94cb8269f"
      },
      "source": [
        "# função para ler os valores e mostrar os gráficos\n",
        "def funcao():\n",
        "  import matplotlib.pyplot as plot\n",
        "\n",
        "  lista_de_resultados = []\n",
        "  x = []\n",
        "  delta = 0\n",
        "  x_variavel = 0\n",
        "  x1 = 0\n",
        "  x2 = 0\n",
        "  i = -100\n",
        "\n",
        "  while i != 101:\n",
        "    x.append(i)\n",
        "    i += 1\n",
        "\n",
        "  i = 0\n",
        "\n",
        "  while True:\n",
        "    if a == 0:\n",
        "      lista_de_resultados.append(b * x[i] + c)\n",
        "      i += 1\n",
        "\n",
        "      if i == 201:\n",
        "        print(\"Essa não foi uma função do segundo grau!\")\n",
        "\n",
        "        break\n",
        "\n",
        "    else:\n",
        "      lista_de_resultados.append(a * x[i] ** 2 + b * x[i] + c)\n",
        "      i += 1\n",
        "      if i == 201:\n",
        "        delta = b ** 2 - 4 * a * c\n",
        "\n",
        "        if delta < 0: \n",
        "\n",
        "          delta = delta * (-1)\n",
        "          delta = complex(delta)\n",
        "\n",
        "          x1 = ((-1) * b + (delta)**0.5)/2*a\n",
        "          x2 = ((-1) * b - (delta)**0.5)/2*a\n",
        "\n",
        "          print(f\"O primeiro valor da icógnita x principal dessa função é: {x1}*i\")\n",
        "          print(f\"O segundo valor da icógnita x principal dessa função é: {x2}*i\")\n",
        "\n",
        "          break\n",
        "\n",
        "        elif delta == 0: \n",
        "          x_variavel = ((-1) * b + (delta)**0.5)/2*a\n",
        "\n",
        "          print(f\"O valor da icógnita x principal dessa função é: {x_variavel}\")\n",
        "\n",
        "          break\n",
        "\n",
        "        elif delta > 0: \n",
        "          x1 = ((-1) * b + (delta)**0.5)/2*a\n",
        "          x2 = ((-1) * b - (delta)**0.5)/2*a\n",
        "\n",
        "          print(f\"O primeiro valor da icógnita x principal dessa função é: {x1}\")\n",
        "          print(f\"O segundo valor da icógnita x principal dessa função é: {x2}\")\n",
        "\n",
        "          break\n",
        "          \n",
        "  plot.plot(x, lista_de_resultados)\n",
        "  plot.show()\n",
        "\n",
        "# operar todo o sistema\n",
        "while True:\n",
        "  try:\n",
        "    from time import sleep\n",
        "    print(\"Olá, esse é o sistema de cálculo de funções do segundo grau!\")\n",
        "    sleep(3)\n",
        "    print(\"A estrutura de uma função do segundo grau é: a * x ** 2 + b * x + c\")\n",
        "    sleep(3)\n",
        "    opcao = int(input(\"Digite 1 para dar os valores ou 2 para sair do sistema: \"))\n",
        "\n",
        "    if opcao == 1:\n",
        "\n",
        "      print(\"Dê o valor:\")\n",
        "      sleep(1)\n",
        "\n",
        "      a = float(input(\"De a: \"))\n",
        "      b = float(input(\"De b: \"))\n",
        "      c = float(input(\"De c: \"))\n",
        "\n",
        "      funcao()\n",
        "\n",
        "    elif opcao == 2:\n",
        "      print(\"Entendo que não queira continuar usando o sistema!\")\n",
        "      sleep(2)\n",
        "      print(\"Até um outro dia!\")\n",
        "      sleep(2)\n",
        "      break\n",
        "\n",
        "    else:\n",
        "      print(\"A opção digitada é incorreta!\")\n",
        "\n",
        "  except ValueError:\n",
        "    print(\"O valor digitado não é válido!\")\n",
        "\n",
        "  except KeyboardInterrupt:\n",
        "    print(\"A operação foi finalizada pelo usuário!\")"
      ],
      "execution_count": 8,
      "outputs": [
        {
          "output_type": "stream",
          "name": "stdout",
          "text": [
            "Olá, esse é o sistema de cálculo de funções do segundo grau!\n",
            "A estrutura de uma função do segundo grau é: a * x ** 2 + b * x + c\n",
            "Digite 1 para dar os valores ou 2 para sair do sistema: -5\n",
            "A opção digitada é incorreta!\n",
            "Olá, esse é o sistema de cálculo de funções do segundo grau!\n",
            "A estrutura de uma função do segundo grau é: a * x ** 2 + b * x + c\n",
            "Digite 1 para dar os valores ou 2 para sair do sistema: 1\n",
            "Dê o valor:\n",
            "De a: -5\n",
            "De b: 8\n",
            "De c: 9\n",
            "O primeiro valor da icógnita x principal dessa função é: -19.05124837953327\n",
            "O segundo valor da icógnita x principal dessa função é: 59.05124837953327\n"
          ]
        },
        {
          "output_type": "display_data",
          "data": {
            "image/png": "[encoded data removed]",
            "text/plain": [
              "<Figure size 432x288 with 1 Axes>"
            ]
          },
          "metadata": {
            "needs_background": "light"
          }
        },
        {
          "output_type": "stream",
          "name": "stdout",
          "text": [
            "Olá, esse é o sistema de cálculo de funções do segundo grau!\n",
            "A estrutura de uma função do segundo grau é: a * x ** 2 + b * x + c\n",
            "Digite 1 para dar os valores ou 2 para sair do sistema: 2\n",
            "Entendo que não queira continuar usando o sistema!\n",
            "Até um outro dia!\n"
          ]
        }
      ]
    },
    {
      "cell_type": "markdown",
      "metadata": {
        "id": "TmLjSEKx75Mx"
      },
      "source": [
        "# New Section"
      ]
    }
  ]
}